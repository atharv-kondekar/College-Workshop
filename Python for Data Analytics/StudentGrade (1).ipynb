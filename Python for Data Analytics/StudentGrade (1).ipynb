{
 "cells": [
  {
   "cell_type": "markdown",
   "id": "c8c66712-8147-40a5-b28a-88509b1ce39e",
   "metadata": {},
   "source": [
    "# 9. Student Grades - Tuple \n",
    "# A university stores student grades in tuples because they are immutable. Write a program \n",
    "# that takes a student's grades for 5 subjects and prints the highest, lowest, and average grade.\n",
    "\n",
    "# ----------- With Explicit Conversion of Tuple->List->Tuple -----------------"
   ]
  },
  {
   "cell_type": "code",
   "execution_count": 37,
   "id": "4165b7ce-eb16-470a-b3f6-cf037c1b5d1c",
   "metadata": {},
   "outputs": [
    {
     "name": "stdin",
     "output_type": "stream",
     "text": [
      "\n",
      " Enter the Marks of the Sub :  1  90\n"
     ]
    },
    {
     "name": "stdout",
     "output_type": "stream",
     "text": [
      "\n",
      " The Student Got Highest Grade in the Sub  1\n"
     ]
    },
    {
     "name": "stdin",
     "output_type": "stream",
     "text": [
      "\n",
      " Enter the Marks of the Sub :  2  97\n"
     ]
    },
    {
     "name": "stdout",
     "output_type": "stream",
     "text": [
      "\n",
      " The Student Got Highest Grade in the Sub  2\n"
     ]
    },
    {
     "name": "stdin",
     "output_type": "stream",
     "text": [
      "\n",
      " Enter the Marks of the Sub :  3  89\n"
     ]
    },
    {
     "name": "stdout",
     "output_type": "stream",
     "text": [
      "\n",
      " The Student Got Average Grade in the Sub  3\n"
     ]
    },
    {
     "name": "stdin",
     "output_type": "stream",
     "text": [
      "\n",
      " Enter the Marks of the Sub :  4  78\n"
     ]
    },
    {
     "name": "stdout",
     "output_type": "stream",
     "text": [
      "\n",
      " The Student Got Average Grade in the Sub  4\n"
     ]
    },
    {
     "name": "stdin",
     "output_type": "stream",
     "text": [
      "\n",
      " Enter the Marks of the Sub :  5  98\n"
     ]
    },
    {
     "name": "stdout",
     "output_type": "stream",
     "text": [
      "\n",
      " The Student Got Highest Grade in the Sub  5\n",
      "\n",
      " The Grades of the students in the 5 subjects :  (90.0, 97.0, 89.0, 78.0, 98.0)\n",
      "\n",
      " The Average of the student  :  90.4\n",
      "\n",
      " Overall The Student Got Highest Grade \n"
     ]
    }
   ],
   "source": [
    "grade = ()\n",
    "sum = 0\n",
    "for i in range (0,5) :\n",
    "    grade=list(grade)\n",
    "    sub=float(input(f\"\\n Enter the Marks of the Sub :  {i+1} \"))\n",
    "    sum=sum+sub\n",
    "\n",
    "    if sub>=90:\n",
    "        print(\"\\n The Student Got Highest Grade in the Sub \",i+1)\n",
    "    elif 70<=sub<90:\n",
    "        print(\"\\n The Student Got Average Grade in the Sub \",i+1)\n",
    "    else:\n",
    "        print(\"\\n The Student Got Lowest Grade in the Sub \",i+1)\n",
    "    \n",
    "    grade.append(sub)\n",
    "    grade=tuple(grade)\n",
    "\n",
    "avg=sum/5\n",
    "print(\"\\n The Grades of the students in the 5 subjects : \",grade)\n",
    "print(\"\\n The Average of the student  : \",avg)\n",
    "\n",
    "if avg>=90:\n",
    "        print(\"\\n Overall The Student Got Highest Grade \")\n",
    "elif 70<=avg<90:\n",
    "        print(\"\\n Overall The Student Got Average Grade \")\n",
    "else:\n",
    "        print(\"\\n Overall The Student Got Lowest Grade  \")\n"
   ]
  },
  {
   "cell_type": "markdown",
   "id": "76530fbe-a928-48a4-a240-26bfeec4f19a",
   "metadata": {},
   "source": [
    "# 10 . Movie Collection - Dictionary \n",
    "# You are maintaining a movie collection where each movie has a rating (out of 10). Write a program to add movies, update ratings, and display all movies with their ratings. "
   ]
  },
  {
   "cell_type": "code",
   "execution_count": 49,
   "id": "5a07a275-bdc0-4914-ae89-e5f8717215c3",
   "metadata": {},
   "outputs": [
    {
     "name": "stdin",
     "output_type": "stream",
     "text": [
      "\n",
      " Enter how many movies collection you want to maintain :  5\n",
      "\n",
      " Enter the Movie Name :  Rehna hai Tere dil mein\n",
      "\n",
      " Enter the Rating of Rehna hai Tere dil mein :  8.2\n",
      "\n",
      " Enter the Movie Name :  Chaava \n",
      "\n",
      " Enter the Rating of Chaava  :  10\n",
      "\n",
      " Enter the Movie Name :  Chichore \n",
      "\n",
      " Enter the Rating of Chichore  :  9.2\n",
      "\n",
      " Enter the Movie Name :  3 iditos \n",
      "\n",
      " Enter the Rating of 3 iditos  :  9\n",
      "\n",
      " Enter the Movie Name :  Zindagi na Melegi Dobara \n",
      "\n",
      " Enter the Rating of Zindagi na Melegi Dobara  :  9.3\n",
      "\n",
      " Enter the Movie Name :  Charlie \n",
      "\n",
      " Enter the Rating of Charlie  :  9.99\n"
     ]
    },
    {
     "ename": "KeyboardInterrupt",
     "evalue": "Interrupted by user",
     "output_type": "error",
     "traceback": [
      "\u001b[1;31m---------------------------------------------------------------------------\u001b[0m",
      "\u001b[1;31mKeyboardInterrupt\u001b[0m                         Traceback (most recent call last)",
      "Cell \u001b[1;32mIn[49], line 6\u001b[0m\n\u001b[0;32m      4\u001b[0m i\u001b[38;5;241m=\u001b[39m\u001b[38;5;241m0\u001b[39m\n\u001b[0;32m      5\u001b[0m \u001b[38;5;28;01mwhile\u001b[39;00m i\u001b[38;5;241m<\u001b[39mn : \n\u001b[1;32m----> 6\u001b[0m     movie\u001b[38;5;241m=\u001b[39m\u001b[38;5;28minput\u001b[39m(\u001b[38;5;124m\"\u001b[39m\u001b[38;5;130;01m\\n\u001b[39;00m\u001b[38;5;124m Enter the Movie Name : \u001b[39m\u001b[38;5;124m\"\u001b[39m)\n\u001b[0;32m      7\u001b[0m     rating\u001b[38;5;241m=\u001b[39m\u001b[38;5;28mfloat\u001b[39m(\u001b[38;5;28minput\u001b[39m(\u001b[38;5;124mf\u001b[39m\u001b[38;5;124m\"\u001b[39m\u001b[38;5;130;01m\\n\u001b[39;00m\u001b[38;5;124m Enter the Rating of \u001b[39m\u001b[38;5;132;01m{\u001b[39;00mmovie\u001b[38;5;132;01m}\u001b[39;00m\u001b[38;5;124m : \u001b[39m\u001b[38;5;124m\"\u001b[39m))\n\u001b[0;32m      8\u001b[0m     dic[movie]\u001b[38;5;241m=\u001b[39mrating \u001b[38;5;66;03m# i write dic{movie} gives error\u001b[39;00m\n",
      "File \u001b[1;32m~\\anaconda3\\Lib\\site-packages\\ipykernel\\kernelbase.py:1262\u001b[0m, in \u001b[0;36mKernel.raw_input\u001b[1;34m(self, prompt)\u001b[0m\n\u001b[0;32m   1260\u001b[0m     msg \u001b[38;5;241m=\u001b[39m \u001b[38;5;124m\"\u001b[39m\u001b[38;5;124mraw_input was called, but this frontend does not support input requests.\u001b[39m\u001b[38;5;124m\"\u001b[39m\n\u001b[0;32m   1261\u001b[0m     \u001b[38;5;28;01mraise\u001b[39;00m StdinNotImplementedError(msg)\n\u001b[1;32m-> 1262\u001b[0m \u001b[38;5;28;01mreturn\u001b[39;00m \u001b[38;5;28mself\u001b[39m\u001b[38;5;241m.\u001b[39m_input_request(\n\u001b[0;32m   1263\u001b[0m     \u001b[38;5;28mstr\u001b[39m(prompt),\n\u001b[0;32m   1264\u001b[0m     \u001b[38;5;28mself\u001b[39m\u001b[38;5;241m.\u001b[39m_parent_ident[\u001b[38;5;124m\"\u001b[39m\u001b[38;5;124mshell\u001b[39m\u001b[38;5;124m\"\u001b[39m],\n\u001b[0;32m   1265\u001b[0m     \u001b[38;5;28mself\u001b[39m\u001b[38;5;241m.\u001b[39mget_parent(\u001b[38;5;124m\"\u001b[39m\u001b[38;5;124mshell\u001b[39m\u001b[38;5;124m\"\u001b[39m),\n\u001b[0;32m   1266\u001b[0m     password\u001b[38;5;241m=\u001b[39m\u001b[38;5;28;01mFalse\u001b[39;00m,\n\u001b[0;32m   1267\u001b[0m )\n",
      "File \u001b[1;32m~\\anaconda3\\Lib\\site-packages\\ipykernel\\kernelbase.py:1305\u001b[0m, in \u001b[0;36mKernel._input_request\u001b[1;34m(self, prompt, ident, parent, password)\u001b[0m\n\u001b[0;32m   1302\u001b[0m \u001b[38;5;28;01mexcept\u001b[39;00m \u001b[38;5;167;01mKeyboardInterrupt\u001b[39;00m:\n\u001b[0;32m   1303\u001b[0m     \u001b[38;5;66;03m# re-raise KeyboardInterrupt, to truncate traceback\u001b[39;00m\n\u001b[0;32m   1304\u001b[0m     msg \u001b[38;5;241m=\u001b[39m \u001b[38;5;124m\"\u001b[39m\u001b[38;5;124mInterrupted by user\u001b[39m\u001b[38;5;124m\"\u001b[39m\n\u001b[1;32m-> 1305\u001b[0m     \u001b[38;5;28;01mraise\u001b[39;00m \u001b[38;5;167;01mKeyboardInterrupt\u001b[39;00m(msg) \u001b[38;5;28;01mfrom\u001b[39;00m \u001b[38;5;28;01mNone\u001b[39;00m\n\u001b[0;32m   1306\u001b[0m \u001b[38;5;28;01mexcept\u001b[39;00m \u001b[38;5;167;01mException\u001b[39;00m:\n\u001b[0;32m   1307\u001b[0m     \u001b[38;5;28mself\u001b[39m\u001b[38;5;241m.\u001b[39mlog\u001b[38;5;241m.\u001b[39mwarning(\u001b[38;5;124m\"\u001b[39m\u001b[38;5;124mInvalid Message:\u001b[39m\u001b[38;5;124m\"\u001b[39m, exc_info\u001b[38;5;241m=\u001b[39m\u001b[38;5;28;01mTrue\u001b[39;00m)\n",
      "\u001b[1;31mKeyboardInterrupt\u001b[0m: Interrupted by user"
     ]
    }
   ],
   "source": [
    "dic={}\n",
    "# I write dict{} - gives error \n",
    "n=int(input(\"\\n Enter how many movies collection you want to maintain : \"))\n",
    "i=0\n",
    "while i<n : \n",
    "    movie=input(\"\\n Enter the Movie Name : \")\n",
    "    rating=float(input(f\"\\n Enter the Rating of {movie} : \"))\n",
    "    dic[movie]=rating # i write dic{movie} gives error\n",
    "    i=i+1\n",
    "\n",
    "print(\"\\n The Ratings of the each movie : \",dic)\n"
   ]
  },
  {
   "cell_type": "code",
   "execution_count": null,
   "id": "f988871c-b8cf-4b14-8c7b-dd5c757665f9",
   "metadata": {},
   "outputs": [],
   "source": []
  }
 ],
 "metadata": {
  "kernelspec": {
   "display_name": "Python [conda env:base] *",
   "language": "python",
   "name": "conda-base-py"
  },
  "language_info": {
   "codemirror_mode": {
    "name": "ipython",
    "version": 3
   },
   "file_extension": ".py",
   "mimetype": "text/x-python",
   "name": "python",
   "nbconvert_exporter": "python",
   "pygments_lexer": "ipython3",
   "version": "3.12.7"
  }
 },
 "nbformat": 4,
 "nbformat_minor": 5
}

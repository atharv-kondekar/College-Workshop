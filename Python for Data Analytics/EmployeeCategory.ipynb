{
 "cells": [
  {
   "cell_type": "code",
   "execution_count": 1,
   "metadata": {},
   "outputs": [],
   "source": [
    "# 1. Identify the Employee Category\n",
    "# A company categorizes its employees based on their salaries:\n",
    "# Salary above ₹50,000 → \"High Income\"\n",
    "# Salary between ₹30,000 and ₹50,000 → \"Medium Income\"\n",
    "# Salary below ₹30,000 → \"Low Income\"\n",
    "# Write a Python program that takes an employee’s salary as input and prints their category.\n"
   ]
  },
  {
   "cell_type": "code",
   "execution_count": 2,
   "metadata": {},
   "outputs": [],
   "source": [
    "# 1. Identify the Employee Category"
   ]
  },
  {
   "cell_type": "code",
   "execution_count": 3,
   "metadata": {},
   "outputs": [],
   "source": [
    "# A company categorizes its employees based on their salaries:\n",
    "# Salary above ₹50,000 → \"High Income\"\n",
    "# Salary between ₹30,000 and ₹50,000 → \"Medium Income\"\n",
    "# Salary below ₹30,000 → \"Low Income\"\n",
    "# Write a Python program that takes an employee’s salary as input and prints their category.\n"
   ]
  },
  {
   "cell_type": "code",
   "execution_count": 5,
   "metadata": {},
   "outputs": [
    {
     "name": "stdout",
     "output_type": "stream",
     "text": [
      "\n",
      " Enter the salary of the Employee : 20000\n",
      "\n",
      " The Employee Belongs in the Low Income Category \n"
     ]
    }
   ],
   "source": [
    "salary = int(input(\"\\n Enter the salary of the Employee : \"))\n",
    "\n",
    "if salary>50000:\n",
    "    print(\"\\n The Employee Belongs in  High Income Category \")\n",
    "elif 30000<salary<=50000:\n",
    "    print(\"\\n The Employee Belongs in Medium Income Category \")\n",
    "else:\n",
    "    print(\"\\n The Employee Belongs in the Low Income Category \")"
   ]
  },
  {
   "cell_type": "code",
   "execution_count": null,
   "metadata": {},
   "outputs": [],
   "source": []
  }
 ],
 "metadata": {
  "kernelspec": {
   "display_name": "Python 3",
   "language": "python",
   "name": "python3"
  },
  "language_info": {
   "codemirror_mode": {
    "name": "ipython",
    "version": 3
   },
   "file_extension": ".py",
   "mimetype": "text/x-python",
   "name": "python",
   "nbconvert_exporter": "python",
   "pygments_lexer": "ipython3",
   "version": "3.8.5"
  }
 },
 "nbformat": 4,
 "nbformat_minor": 4
}

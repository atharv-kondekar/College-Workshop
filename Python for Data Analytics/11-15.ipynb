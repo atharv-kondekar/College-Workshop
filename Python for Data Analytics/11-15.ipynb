{
 "cells": [
  {
   "cell_type": "markdown",
   "id": "28ff4448-2e27-483d-931c-eaf0f9c2183b",
   "metadata": {},
   "source": [
    "# 11. Removing Duplicates from a List - Set \n",
    "# A librarian is digitizing book records but some book titles are repeated. Write a program to remove duplicates from a list using a set. "
   ]
  },
  {
   "cell_type": "code",
   "execution_count": 29,
   "id": "c120414f-0baa-4048-8927-0d6ee6b75903",
   "metadata": {},
   "outputs": [
    {
     "name": "stdin",
     "output_type": "stream",
     "text": [
      "\n",
      " Enetr the How many books that librarian recording the data :  8\n",
      "\n",
      " Enter the The Book title :  7 habits of the highly effective people \n",
      "\n",
      " Enter the The Book title :  Crime and punishmnt\n",
      "\n",
      " Enter the The Book title :  THe Spy \n",
      "\n",
      " Enter the The Book title :  Crime And Punishment \n",
      "\n",
      " Enter the The Book title :  The Spy \n",
      "\n",
      " Enter the The Book title :  The count Mount \n",
      "\n",
      " Enter the The Book title :  Biography of the nepolian \n",
      "\n",
      " Enter the The Book title :  Biography  of the nepoliaN\n"
     ]
    },
    {
     "name": "stdout",
     "output_type": "stream",
     "text": [
      "\n",
      " The prototype of the list :  ['7 habits of the highly effective people ', 'Crime and punishmnt', 'THe Spy ', 'Crime And Punishment ', 'The Spy ', 'The count Mount ', 'Biography of the nepolian ', 'Biography  of the nepoliaN']\n",
      "\n",
      " the Final List :  {'THe Spy ', 'Biography  of the nepoliaN', 'The Spy ', 'The count Mount ', 'Crime and punishmnt', 'Biography of the nepolian ', 'Crime And Punishment ', '7 habits of the highly effective people '}\n"
     ]
    }
   ],
   "source": [
    "n=int(input(\"\\n Enetr the How many books that librarian recording the data : \"))\n",
    "lst=[]\n",
    "for i in range (0,n):\n",
    "    Book=input(\"\\n Enter the The Book title : \")\n",
    "    lst.append(Book)\n",
    "\n",
    "print(\"\\n The prototype of the list : \",lst)\n",
    "book_set=set(lst)\n",
    "print('\\n the Final List : ',book_set)"
   ]
  },
  {
   "cell_type": "markdown",
   "id": "5e907fb2-dad3-4122-8b94-8c0d4ba939e8",
   "metadata": {},
   "source": [
    "# 12. ATM Transaction System \n",
    "# You are designing an ATM system where users can check their balance, withdraw money, or deposit money. Implement this using functions"
   ]
  },
  {
   "cell_type": "code",
   "execution_count": 36,
   "id": "c4058646-d1ed-4063-a78d-0129b0ebcfae",
   "metadata": {},
   "outputs": [
    {
     "name": "stdin",
     "output_type": "stream",
     "text": [
      "\n",
      " set the Password of your ATM :  1111\n",
      "\n",
      " Set Your Toatal balance :  123456\n"
     ]
    },
    {
     "name": "stdout",
     "output_type": "stream",
     "text": [
      " ------------ Welcome To ATM -------------- \n",
      "\n",
      " 1. Check Money \n",
      "\n",
      " 2. Deposit Money \n",
      "\n",
      " 3. Withdraw Money \n",
      "\n",
      " 4. Exit the System \n"
     ]
    },
    {
     "name": "stdin",
     "output_type": "stream",
     "text": [
      "\n",
      " Enter the choice you want to make :  3\n",
      "\n",
      " Enter the Withdraw Money :  123\n",
      "\n",
      " Enter the Password :  1111\n"
     ]
    },
    {
     "name": "stdout",
     "output_type": "stream",
     "text": [
      "\n",
      " The Money :  123  WithDrawed Successfully\n",
      "- 123\n"
     ]
    }
   ],
   "source": [
    "\n",
    "def checkBalance(balance,code):\n",
    "    trying=int(input('\\n Enter the Password : '))\n",
    "    if trying == code :\n",
    "        print(\"The Balance : \",balance)\n",
    "    else:\n",
    "        print(\"\\n !!!!!!! You entered Wrong Password !!!!!!!\")\n",
    "        return \n",
    "\n",
    "def depositMoney(money,code):\n",
    "    trying=int(input('\\n Enter the Password : '))\n",
    "    if trying == code :\n",
    "        print(\"\\n The MOney deposited Successfully \")\n",
    "        print(\"+\",money)\n",
    "    else:\n",
    "        print(\"\\n !!!!!!! You entered Wrong Password !!!!!!!\")\n",
    "        return\n",
    "\n",
    "def WithDrawMoney(money,code,balance):\n",
    "    trying=int(input('\\n Enter the Password : '))\n",
    "    if trying == code :\n",
    "        if money <= balance:\n",
    "            print('\\n The Money : ',money,\" WithDrawed Successfully\")\n",
    "            print(\"-\",money)\n",
    "        else:\n",
    "            print(\"\\n Withdraw Money is greater than Total balance \")\n",
    "    else:\n",
    "        print(\"\\n !!!!!!! You entered Wrong Password !!!!!!!\")\n",
    "        return\n",
    "        \n",
    "code=int(input(\"\\n set the Password of your ATM : \"))\n",
    "balance=int(input('\\n Set Your Toatal balance : '))\n",
    "print(\" ------------ Welcome To ATM -------------- \")\n",
    "\n",
    "\n",
    "print(\"\\n 1. Check Money \")\n",
    "print(\"\\n 2. Deposit Money \")\n",
    "print(\"\\n 3. Withdraw Money \")\n",
    "print(\"\\n 4. Exit the System \")\n",
    "\n",
    "choice=int(input(\"\\n Enter the choice you want to make : \"))\n",
    "\n",
    "if choice == 1 :\n",
    "    checkBalance(balance,code)\n",
    "elif choice == 2 :\n",
    "    money=int(input(\"\\n Enter the Money WithDraw Money : \"))\n",
    "    depositMoney(money,code)\n",
    "elif choice == 3 :\n",
    "    money=int(input(\"\\n Enter the Withdraw Money : \"))\n",
    "    WithDrawMoney(money,code,balance)\n",
    "else:\n",
    "    print(\"Exitng System\")"
   ]
  },
  {
   "cell_type": "markdown",
   "id": "5dccc7df-0a06-4a6d-a848-17703e228e4b",
   "metadata": {},
   "source": [
    "# 13. Student Grade Calculator \n",
    "# Create a function that takes a student's marks and returns their grade based on the following criteria: \n",
    "# ● 90-100: A \n",
    "# ● 80-89: B \n",
    "# ● 70-79: C \n",
    "# ● 60-69: D \n",
    "# ● Below 60: F "
   ]
  },
  {
   "cell_type": "code",
   "execution_count": 52,
   "id": "fe334219-968d-46a5-9df9-50eaf7755dcf",
   "metadata": {},
   "outputs": [
    {
     "name": "stdin",
     "output_type": "stream",
     "text": [
      "\n",
      " Enter -> How many subject's of mark you want to store :  5\n",
      "\n",
      " Enter the Marks of the Sub 1 :  90\n",
      "\n",
      " Enter the Marks of the Sub 2 :  90\n",
      "\n",
      " Enter the Marks of the Sub 3 :  90\n",
      "\n",
      " Enter the Marks of the Sub 4 :  90\n",
      "\n",
      " Enter the Marks of the Sub 5 :  90\n"
     ]
    },
    {
     "name": "stdout",
     "output_type": "stream",
     "text": [
      "\n",
      " The Student Got A Grade\n"
     ]
    }
   ],
   "source": [
    "def GradeCalculator(n):\n",
    "    Sum=0\n",
    "    for i in range (0,n):\n",
    "        sub=int(input(f\"\\n Enter the Marks of the Sub {i+1} : \"))\n",
    "        Sum=Sum+sub\n",
    "    avg=Sum/n\n",
    "    return avg\n",
    "\n",
    "n=int(input(\"\\n Enter -> How many subject's of mark you want to store : \"))\n",
    "grade=GradeCalculator(n)\n",
    "\n",
    "if 90<=grade<=100:\n",
    "    print(\"\\n The Student Got A Grade\")\n",
    "elif 80<=grade<90:\n",
    "    print(\"\\n The Student Got B Grade\")\n",
    "elif 70<=grade<80:\n",
    "    print(\"\\n The Student Got C Grade\")\n",
    "elif 60<=grade<70:\n",
    "    print(\"\\n The Student Got D Grade\")\n",
    "else:\n",
    "    print(\"\\n The Student Got F Grade\")"
   ]
  },
  {
   "cell_type": "markdown",
   "id": "66923ae4-c08e-4bdf-8d4d-8d25c9e5ae9a",
   "metadata": {},
   "source": [
    "# 14. Simple Calculator Using Functions \n",
    "# Write a calculator function that takes two numbers and an operator (+, -, , /) and returns the result. "
   ]
  },
  {
   "cell_type": "code",
   "execution_count": 54,
   "id": "6e5eaa2b-5966-43aa-bf92-719a7eb5a4ba",
   "metadata": {},
   "outputs": [
    {
     "name": "stdin",
     "output_type": "stream",
     "text": [
      "\n",
      " Enter the Number 1 :  10\n",
      "\n",
      " Enter the Numebr 2 :  5\n"
     ]
    },
    {
     "name": "stdout",
     "output_type": "stream",
     "text": [
      "\n",
      " 1. Addition \n",
      " 2. Substraction \n",
      "3. Division \n",
      "4. Multiplication\n"
     ]
    },
    {
     "name": "stdin",
     "output_type": "stream",
     "text": [
      "\n",
      " Enter the Operation you want to perform :  1\n"
     ]
    },
    {
     "name": "stdout",
     "output_type": "stream",
     "text": [
      "\n",
      " The Final Answer :  15\n"
     ]
    }
   ],
   "source": [
    "def calculator():\n",
    "    num1=int(input(\"\\n Enter the Number 1 : \"))\n",
    "    num2=int(input(\"\\n Enter the Numebr 2 : \"))\n",
    "\n",
    "    print(\"\\n 1. Addition \\n 2. Substraction \\n3. Division \\n4. Multiplication\")\n",
    "    choice=int(input(\"\\n Enter the Operation you want to perform : \"))\n",
    "\n",
    "    if choice==1:\n",
    "        return num1+num2\n",
    "    elif choice==2:\n",
    "        return num1-num2\n",
    "    elif choice==3:\n",
    "        return num1/num2\n",
    "    elif choice==4:\n",
    "        return num1*num2\n",
    "    else:\n",
    "        print(\"You Entered Wrong Choice \")\n",
    "        return \n",
    "\n",
    "ans=calculator()\n",
    "print(\"\\n The Final Answer : \",ans)"
   ]
  },
  {
   "cell_type": "markdown",
   "id": "e4e80e90-bba9-4909-8bae-1e9c5949fdf3",
   "metadata": {},
   "source": [
    "# 15. Find the Maximum of Three Numbers \n",
    "# Write a function that takes three numbers as input and returns the maximum of the three"
   ]
  },
  {
   "cell_type": "code",
   "execution_count": 65,
   "id": "51f6f07e-9fce-4af6-92b4-0111cf606664",
   "metadata": {},
   "outputs": [
    {
     "name": "stdin",
     "output_type": "stream",
     "text": [
      "\n",
      " Enter the Number 1 :  5\n",
      "\n",
      " Enter the Numebr 2 :  2\n",
      "\n",
      " Enter the Number 3 :  5\n"
     ]
    },
    {
     "name": "stdout",
     "output_type": "stream",
     "text": [
      "\n",
      " The Maximum Number :  2\n"
     ]
    }
   ],
   "source": [
    "def max_num():\n",
    "    num1=int(input(\"\\n Enter the Number 1 : \"))\n",
    "    num2=int(input(\"\\n Enter the Numebr 2 : \"))\n",
    "    num3=int(input(\"\\n Enter the Number 3 : \"))\n",
    "\n",
    "    return max(num1,num2,num3)\n",
    "\n",
    "ans=max_num()\n",
    "\n",
    "print(\"\\n The Maximum Number : \",ans)"
   ]
  },
  {
   "cell_type": "code",
   "execution_count": null,
   "id": "8fcafadc-cbb9-488f-a012-7f2756c27de1",
   "metadata": {},
   "outputs": [],
   "source": []
  }
 ],
 "metadata": {
  "kernelspec": {
   "display_name": "Python [conda env:base] *",
   "language": "python",
   "name": "conda-base-py"
  },
  "language_info": {
   "codemirror_mode": {
    "name": "ipython",
    "version": 3
   },
   "file_extension": ".py",
   "mimetype": "text/x-python",
   "name": "python",
   "nbconvert_exporter": "python",
   "pygments_lexer": "ipython3",
   "version": "3.12.7"
  }
 },
 "nbformat": 4,
 "nbformat_minor": 5
}

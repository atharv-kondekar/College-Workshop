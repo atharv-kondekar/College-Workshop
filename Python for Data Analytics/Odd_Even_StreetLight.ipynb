{
 "cells": [
  {
   "cell_type": "markdown",
   "metadata": {},
   "source": [
    "# A city uses an even-odd rule to manage electricity usage in streetlights. Streetlights with even numbers are turned on at night, while odd-numbered lights remain off. Write a program that takes a streetlight number as input and prints whether it should be ON or OFF."
   ]
  },
  {
   "cell_type": "code",
   "execution_count": 1,
   "metadata": {},
   "outputs": [
    {
     "name": "stdout",
     "output_type": "stream",
     "text": [
      "\n",
      " Enter the Number of the Streetlight :  65\n",
      "\n",
      " The Lights in the Streeetlight  are remains off \n"
     ]
    }
   ],
   "source": [
    "streetLight=int(input(\"\\n Enter the Number of the Streetlight :  \"))\n",
    "\n",
    "if streetLight%2==0:\n",
    "    print(\"\\n The Lights in the Streeetlight  are turned on at night \")\n",
    "else:\n",
    "    print(\"\\n The Lights in the Streeetlight  are remains off \")"
   ]
  },
  {
   "cell_type": "markdown",
   "metadata": {},
   "source": [
    "# Imagine you are designing a basic ATM-like interface where users can:\n",
    "# 1. Check Balance\n",
    "# 2. Deposit Money\n",
    "# 3. Withdraw Money\n",
    "# 4. Exit the System\n",
    "# Your Task: Write a Python program that displays a menu, takes user input, and performs the respective operation based on the user's choice"
   ]
  },
  {
   "cell_type": "code",
   "execution_count": 5,
   "metadata": {},
   "outputs": [
    {
     "name": "stdout",
     "output_type": "stream",
     "text": [
      "\n",
      " set the Password of your ATM : 0009\n",
      "\n",
      " Set Your Toatal balance : 20000\n",
      " ------------ Welcome To ATM -------------- \n",
      "\n",
      " 1. Check Money \n",
      "\n",
      " 2. Deposit Money \n",
      "\n",
      " 3. Withdraw Money \n",
      "\n",
      " 4. Exit the System \n",
      "\n",
      " Enter the choice you want to make : 3\n",
      "\n",
      " Enter the Withdraw Money : 500\n",
      "\n",
      " Enter the Password : 0005\n",
      "\n",
      " !!!!!!! You entered Wrong Password !!!!!!!\n"
     ]
    }
   ],
   "source": [
    "def checkBalance(balance,code):\n",
    "    trying=int(input('\\n Enter the Password : '))\n",
    "    if trying == code :\n",
    "        print(\"The Balance : \",balance)\n",
    "    else:\n",
    "        print(\"\\n !!!!!!! You entered Wrong Password !!!!!!!\")\n",
    "        return \n",
    "\n",
    "def depositMoney(money,code):\n",
    "    trying=int(input('\\n Enter the Password : '))\n",
    "    if trying == code :\n",
    "        print(\"\\n The MOney deposited Successfully \")\n",
    "        print(\"+\",money)\n",
    "    else:\n",
    "        print(\"\\n !!!!!!! You entered Wrong Password !!!!!!!\")\n",
    "        return\n",
    "\n",
    "def WithDrawMoney(money,code,balance):\n",
    "    trying=int(input('\\n Enter the Password : '))\n",
    "    if trying == code :\n",
    "        if withdraw <= balance:\n",
    "            print('\\n The Money : ',money,\" WithDrawed Successfully\")\n",
    "            print(\"-\",money)\n",
    "        else:\n",
    "            print(\"\\n Withdraw Money is greater than Total balance \")\n",
    "    else:\n",
    "        print(\"\\n !!!!!!! You entered Wrong Password !!!!!!!\")\n",
    "        return\n",
    "        \n",
    "code=int(input(\"\\n set the Password of your ATM : \"))\n",
    "balance=int(input('\\n Set Your Toatal balance : '))\n",
    "print(\" ------------ Welcome To ATM -------------- \")\n",
    "\n",
    "\n",
    "print(\"\\n 1. Check Money \")\n",
    "print(\"\\n 2. Deposit Money \")\n",
    "print(\"\\n 3. Withdraw Money \")\n",
    "print(\"\\n 4. Exit the System \")\n",
    "\n",
    "choice=int(input(\"\\n Enter the choice you want to make : \"))\n",
    "\n",
    "if choice == 1 :\n",
    "    checkBalance(balance,code)\n",
    "elif choice == 2 :\n",
    "    money=int(input(\"\\n Enter the Money WithDraw Money : \"))\n",
    "    depositMoney(money,code)\n",
    "elif choice == 3 :\n",
    "    money=int(input(\"\\n Enter the Withdraw Money : \"))\n",
    "    WithDrawMoney(money,code,balance)\n",
    "else:\n",
    "    print(\"Exitng System\")"
   ]
  },
  {
   "cell_type": "markdown",
   "metadata": {},
   "source": [
    "# 5. ATM PIN Verification\n",
    "# A bank ATM allows a user to enter their PIN a maximum of 3 times. If the correct PIN (1234) is entered within 3 attempts, the user gains access; otherwise, the card is blocked. Write a Python program for this."
   ]
  },
  {
   "cell_type": "code",
   "execution_count": 10,
   "metadata": {},
   "outputs": [
    {
     "name": "stdout",
     "output_type": "stream",
     "text": [
      "\n",
      " Enter the Pin of your card : 1234\n",
      "\n",
      " You entered Correct pin \n"
     ]
    }
   ],
   "source": [
    "CorrectPin=1234\n",
    "\n",
    "count =0 \n",
    "while True:\n",
    "    trying=int(input(\"\\n Enter the Pin of your card : \"))\n",
    "    if trying==CorrectPin:\n",
    "        print(\"\\n You entered Correct pin \")\n",
    "        break\n",
    "    else:\n",
    "        print('\\n You entred Wrong Pin : ')\n",
    "        count+=1\n",
    "        if(count==3):\n",
    "            print('\\n!!!!!! Your card is blocked!!!!!!')\n",
    "            break\n",
    "    "
   ]
  },
  {
   "cell_type": "markdown",
   "metadata": {},
   "source": [
    "# 4. Counting Passengers in a Bus\n",
    "# A city bus stops at different stations, and passengers board at each stop. The bus conductor notes down the number of passengers at each stop for 5 stops. Write a Python program to take input for each stop and calculate the total number of passengers at the end."
   ]
  },
  {
   "cell_type": "code",
   "execution_count": 18,
   "metadata": {},
   "outputs": [
    {
     "name": "stdout",
     "output_type": "stream",
     "text": [
      "\n",
      " The Bus is deparcture from the Station\n",
      "\n",
      " Enetr the Number of Passengers into bus at station : 50\n",
      "\n",
      " The BUS reaches at  1 station\n",
      "\n",
      " Enetr the passengers are exited at station : 10\n",
      "\n",
      " Enetr the Number of passengers  entred : 1\n",
      "\n",
      " The BUS reaches at  2 station\n",
      "\n",
      " Enetr the passengers are exited at station : 10\n",
      "\n",
      " Enetr the Number of passengers  entred : 1\n",
      "\n",
      " The BUS reaches at  3 station\n",
      "\n",
      " Enetr the passengers are exited at station : 5\n",
      "\n",
      " Enetr the Number of passengers  entred : 1\n",
      "\n",
      " The BUS reaches at  4 station\n",
      "\n",
      " Enetr the passengers are exited at station : 5\n",
      "\n",
      " Enetr the Number of passengers  entred : 1\n",
      "\n",
      " The BUS reaches at  5 station\n",
      "\n",
      " Enetr the passengers are exited at station : 10\n",
      "\n",
      " Enetr the Number of passengers  entred : 1\n",
      "\n",
      " At the end the Total Pssengers are :  15\n"
     ]
    }
   ],
   "source": [
    "print('\\n The Bus is deparcture from the Station')\n",
    "total=int(input(\"\\n Enetr the Number of Passengers into bus at station : \"))\n",
    "\n",
    "i=0\n",
    "while i < 5:\n",
    "    print(\"\\n The BUS reaches at \",i+1,\"station\")\n",
    "    exited=int(input(\"\\n Enetr the passengers are exited at station : \"))\n",
    "    if(exited > total ):\n",
    "        print(\"\\n You entered Wrong Information \")\n",
    "        continue \n",
    "    else:\n",
    "        entred=int(input('\\n Enetr the Number of passengers  entred : '))\n",
    "        total=total-exited\n",
    "        total=total+entred\n",
    "    \n",
    "    i=i+1\n",
    "    \n",
    "print(\"\\n At the end the Total Pssengers are : \",total)"
   ]
  },
  {
   "cell_type": "markdown",
   "metadata": {},
   "source": [
    "# 8. Shopping Cart - List Operations\n",
    "# 📌 You are creating a shopping cart program. Users should be able to add items to the cart and view the final list. Implement a program that allows a user to add items (names of products) until they type \"done\" and then prints all the items in the cart"
   ]
  },
  {
   "cell_type": "code",
   "execution_count": 25,
   "metadata": {},
   "outputs": [
    {
     "name": "stdout",
     "output_type": "stream",
     "text": [
      "\n",
      " Enter the Product you want to add in the list : Nirma\n",
      "\n",
      " Enetr the done or not not\n",
      "\n",
      " Enter the Product you want to add in the list : Face Wash\n",
      "\n",
      " Enetr the done or not not\n",
      "\n",
      " Enter the Product you want to add in the list : mama earth\n",
      "\n",
      " Enetr the done or not not\n",
      "\n",
      " Enter the Product you want to add in the list : Saban\n",
      "\n",
      " Enetr the done or not done\n",
      "\n",
      " The Final List :  ['Nirma', 'Face Wash', 'mama earth', 'Saban']\n"
     ]
    }
   ],
   "source": [
    "Shopping_lst=[]\n",
    "\n",
    "while True:\n",
    "    product=input(\"\\n Enter the Product you want to add in the list : \")\n",
    "    \n",
    "    Shopping_lst.append(product)\n",
    "    \n",
    "    choice=input('\\n Enetr the done or not ')\n",
    "    if(choice =='done' or choice=='DONE' or choice=='Done'):\n",
    "        break\n",
    "\n",
    "print(\"\\n The Final List : \",Shopping_lst)"
   ]
  },
  {
   "cell_type": "code",
   "execution_count": null,
   "metadata": {},
   "outputs": [],
   "source": []
  }
 ],
 "metadata": {
  "kernelspec": {
   "display_name": "Python 3",
   "language": "python",
   "name": "python3"
  },
  "language_info": {
   "codemirror_mode": {
    "name": "ipython",
    "version": 3
   },
   "file_extension": ".py",
   "mimetype": "text/x-python",
   "name": "python",
   "nbconvert_exporter": "python",
   "pygments_lexer": "ipython3",
   "version": "3.8.5"
  }
 },
 "nbformat": 4,
 "nbformat_minor": 4
}
